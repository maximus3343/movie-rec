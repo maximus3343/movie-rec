{
  "cells": [
    {
      "cell_type": "code",
      "source": [
        "import sys\n",
        "import os\n",
        "import kagglehub\n",
        "import matplotlib.pyplot as plt\n",
        "import numpy as np"
      ],
      "metadata": {
        "id": "qcZUCYIw-tWe"
      },
      "id": "qcZUCYIw-tWe",
      "execution_count": 11,
      "outputs": []
    },
    {
      "cell_type": "code",
      "source": [
        "!git clone https://github.com/maximus3343/movie-rec"
      ],
      "metadata": {
        "id": "5cmq3C8v96sX",
        "outputId": "dd2823ed-b374-4957-f2f5-5bec825fd110",
        "colab": {
          "base_uri": "https://localhost:8080/"
        }
      },
      "id": "5cmq3C8v96sX",
      "execution_count": 2,
      "outputs": [
        {
          "output_type": "stream",
          "name": "stdout",
          "text": [
            "Cloning into 'movie-rec'...\n",
            "remote: Enumerating objects: 19, done.\u001b[K\n",
            "remote: Counting objects: 100% (19/19), done.\u001b[K\n",
            "remote: Compressing objects: 100% (17/17), done.\u001b[K\n",
            "remote: Total 19 (delta 5), reused 0 (delta 0), pack-reused 0 (from 0)\u001b[K\n",
            "Receiving objects: 100% (19/19), 38.96 KiB | 3.25 MiB/s, done.\n",
            "Resolving deltas: 100% (5/5), done.\n"
          ]
        }
      ]
    },
    {
      "cell_type": "code",
      "source": [
        "cloned_repo_path = '/content/movie-rec'\n",
        "\n",
        "if cloned_repo_path not in sys.path:\n",
        "    sys.path.append(cloned_repo_path)\n",
        "print(f\"Added {cloned_repo_path} to sys.path\")"
      ],
      "metadata": {
        "id": "PUL5ipWY-cNK",
        "outputId": "fc7c24d3-9440-4636-d058-c6af169596a2",
        "colab": {
          "base_uri": "https://localhost:8080/"
        }
      },
      "id": "PUL5ipWY-cNK",
      "execution_count": 3,
      "outputs": [
        {
          "output_type": "stream",
          "name": "stdout",
          "text": [
            "Added /content/movie-rec to sys.path\n"
          ]
        }
      ]
    },
    {
      "cell_type": "code",
      "execution_count": 4,
      "id": "d0cfe9f1-38b6-4f7b-96ea-c6d5de487f50",
      "metadata": {
        "id": "d0cfe9f1-38b6-4f7b-96ea-c6d5de487f50"
      },
      "outputs": [],
      "source": [
        "import pandas as pd\n",
        "\n",
        "from MovieEnv import MovieEnv\n",
        "from PPO import PPO\n",
        "from Buffer import Experience"
      ]
    },
    {
      "cell_type": "code",
      "source": [
        "path = kagglehub.dataset_download(\"vodclickstream/netflix-audience-behaviour-uk-movies\")\n",
        "dataset_name = os.listdir(path)[0]\n",
        "path = os.path.join(path, dataset_name)"
      ],
      "metadata": {
        "id": "Vxqwmxqh_D5O",
        "colab": {
          "base_uri": "https://localhost:8080/"
        },
        "outputId": "c2c2245c-77d8-4e21-9ec9-ddaadc7760cb"
      },
      "id": "Vxqwmxqh_D5O",
      "execution_count": 5,
      "outputs": [
        {
          "output_type": "stream",
          "name": "stdout",
          "text": [
            "Downloading from https://www.kaggle.com/api/v1/datasets/download/vodclickstream/netflix-audience-behaviour-uk-movies?dataset_version_number=4...\n"
          ]
        },
        {
          "output_type": "stream",
          "name": "stderr",
          "text": [
            "100%|██████████| 18.1M/18.1M [00:00<00:00, 140MB/s]"
          ]
        },
        {
          "output_type": "stream",
          "name": "stdout",
          "text": [
            "Extracting files...\n"
          ]
        },
        {
          "output_type": "stream",
          "name": "stderr",
          "text": [
            "\n"
          ]
        }
      ]
    },
    {
      "cell_type": "markdown",
      "source": [
        "Here are the performances of the DRL based on my custom Movie-Rec environment. Even with the high action space, the agent is able to recommend movies with high watch time (based on dataset) and good entropy to the user."
      ],
      "metadata": {
        "id": "A0w7WW2bmjeG"
      },
      "id": "A0w7WW2bmjeG"
    },
    {
      "cell_type": "markdown",
      "source": [
        "Complex network, with environment only focusing on average watch time, not entropy of recently watched movies"
      ],
      "metadata": {
        "id": "WVsyOdYOm3mE"
      },
      "id": "WVsyOdYOm3mE"
    },
    {
      "cell_type": "code",
      "execution_count": 17,
      "id": "63e5a94b-bb00-43d6-9d78-5cc52955f71c",
      "metadata": {
        "id": "63e5a94b-bb00-43d6-9d78-5cc52955f71c",
        "outputId": "e660fa5a-9245-4964-8c3f-affbef503c9c",
        "colab": {
          "base_uri": "https://localhost:8080/",
          "height": 472
        }
      },
      "outputs": [
        {
          "output_type": "display_data",
          "data": {
            "text/plain": [
              "<Figure size 640x480 with 1 Axes>"
            ],
            "image/png": "[encoded data removed]"
          },
          "metadata": {}
        }
      ],
      "source": [
        "# Higher number of paramters used.\n",
        "def main():\n",
        "    df = pd.read_csv(path)\n",
        "    N = 4  # Number of last movies watched kept as state.\n",
        "    envi = MovieEnv(df, N=N, alpha=1, beta=0)\n",
        "\n",
        "    lr = 1e-4  # Same learning rate for all modules.\n",
        "    gamma = 0.95  # Discount factor.\n",
        "    in_features = 128\n",
        "    hidden_size = 256\n",
        "    embedding_dim = 64\n",
        "    id_list = df['movie_id'].unique()  # List of movies.\n",
        "    K_epochs = 5\n",
        "    eps_clip = 0.2\n",
        "    top_k = 0\n",
        "\n",
        "    a = PPO(in_features=in_features, out_features=envi.action_space.n, hidden_size=hidden_size, embedding_dim=embedding_dim, lr_actor=lr,\n",
        "            lr_critic=lr, lr_sr=lr, gamma=gamma, N=N, K_epochs=K_epochs, eps_clip=eps_clip, movie_id_list=id_list, top_k=top_k,\n",
        "            algo='monte_carlo')\n",
        "\n",
        "    episodes = 10000\n",
        "    rewards = []\n",
        "\n",
        "    for k in range(episodes):\n",
        "        state, info = envi.reset()\n",
        "        done = False\n",
        "\n",
        "        total_reward = 0\n",
        "\n",
        "        while not done:\n",
        "            action, state_value, action_logprob = a.select_action(state)\n",
        "            next_state, reward, done, _, _ = envi.step(action)\n",
        "\n",
        "            # exp = Experience(state, action, reward, next_state, done, state_value, action_logprob)\n",
        "            a.add_experience(Experience(state, action, reward,\n",
        "                            next_state, done, state_value, action_logprob))\n",
        "\n",
        "            total_reward += reward\n",
        "\n",
        "            state = next_state\n",
        "\n",
        "        a.learn()\n",
        "        rewards.append(reward)\n",
        "\n",
        "    return rewards\n",
        "\n",
        "if __name__ == \"__main__\":\n",
        "    rewards = main()\n",
        "    plt.plot(np.arange(len(rewards)), rewards)\n",
        "    plt.title(\"Rewards per Episode\")\n",
        "    plt.xlabel(\"Episode\")\n",
        "    plt.ylabel(\"Reward\")\n",
        "\n"
      ]
    },
    {
      "cell_type": "markdown",
      "source": [
        "Complex network, with environment rewarding both watch time and entropy of the recently watched movies"
      ],
      "metadata": {
        "id": "A0xvcwDMnDeO"
      },
      "id": "A0xvcwDMnDeO"
    },
    {
      "cell_type": "code",
      "source": [
        "# Higher number of paramters used.\n",
        "# Entropy used to compute reward inside environment.\n",
        "def main():\n",
        "    df = pd.read_csv(path)\n",
        "    N = 4  # Number of last movies watched kept as state.\n",
        "    envi = MovieEnv(df, N=N, alpha=0.5, beta=0.5)\n",
        "\n",
        "    lr = 1e-4  # Same learning rate for all modules.\n",
        "    gamma = 0.95  # Discount factor.\n",
        "    in_features = 128\n",
        "    hidden_size = 256\n",
        "    embedding_dim = 64\n",
        "    id_list = df['movie_id'].unique()  # List of movies.\n",
        "    K_epochs = 5\n",
        "    eps_clip = 0.2\n",
        "    top_k = 0\n",
        "\n",
        "    a = PPO(in_features=in_features, out_features=envi.action_space.n, hidden_size=hidden_size, embedding_dim=embedding_dim, lr_actor=lr,\n",
        "            lr_critic=lr, lr_sr=lr, gamma=gamma, N=N, K_epochs=K_epochs, eps_clip=eps_clip, movie_id_list=id_list, top_k=top_k,\n",
        "            algo='monte_carlo')\n",
        "\n",
        "    episodes = 5000\n",
        "    rewards = []\n",
        "\n",
        "    for k in range(episodes):\n",
        "        state, info = envi.reset()\n",
        "        done = False\n",
        "\n",
        "        total_reward = 0\n",
        "\n",
        "        while not done:\n",
        "            action, state_value, action_logprob = a.select_action(state)\n",
        "            next_state, reward, done, _, _ = envi.step(action)\n",
        "\n",
        "            # exp = Experience(state, action, reward, next_state, done, state_value, action_logprob)\n",
        "            a.add_experience(Experience(state, action, reward,\n",
        "                            next_state, done, state_value, action_logprob))\n",
        "\n",
        "            total_reward += reward\n",
        "\n",
        "            state = next_state\n",
        "\n",
        "        a.learn()\n",
        "        rewards.append(reward)\n",
        "\n",
        "    return rewards\n",
        "\n",
        "if __name__ == \"__main__\":\n",
        "    rewards = main()\n",
        "    plt.plot(np.arange(len(rewards)), rewards)\n",
        "    plt.title(\"Rewards per Episode\")\n",
        "    plt.xlabel(\"Episode\")\n",
        "    plt.ylabel(\"Reward\")\n",
        "\n"
      ],
      "metadata": {
        "colab": {
          "base_uri": "https://localhost:8080/",
          "height": 472
        },
        "id": "82vi1atovSTH",
        "outputId": "bedd9b28-cb80-4ec5-8597-356d9d21a91d"
      },
      "id": "82vi1atovSTH",
      "execution_count": 18,
      "outputs": [
        {
          "output_type": "display_data",
          "data": {
            "text/plain": [
              "<Figure size 640x480 with 1 Axes>"
            ],
            "image/png": "[encoded data removed]"
          },
          "metadata": {}
        }
      ]
    },
    {
      "cell_type": "markdown",
      "source": [
        "Simpler network, with environment rewarding both watch time and entropy of the recently watched movies."
      ],
      "metadata": {
        "id": "sWd837QQnPtR"
      },
      "id": "sWd837QQnPtR"
    },
    {
      "cell_type": "code",
      "source": [
        "# Lower-sized network.\n",
        "def main():\n",
        "    df = pd.read_csv(path)\n",
        "    N = 6  # Number of last movies watched kept as state.\n",
        "    envi = MovieEnv(df, N=N, alpha=0.5, beta=0.5)\n",
        "\n",
        "    lr = 1e-4  # Same learning rate for all modules.\n",
        "    gamma = 0.95  # Discount factor.\n",
        "    in_features = 32\n",
        "    hidden_size = 64\n",
        "    embedding_dim = 16\n",
        "    id_list = df['movie_id'].unique()  # List of movies.\n",
        "    K_epochs = 5\n",
        "    eps_clip = 0.2\n",
        "    top_k = 0 # Still no top-k sampling.\n",
        "\n",
        "    a = PPO(in_features=in_features, out_features=envi.action_space.n, hidden_size=hidden_size, embedding_dim=embedding_dim, lr_actor=lr,\n",
        "            lr_critic=lr, lr_sr=lr, gamma=gamma, N=N, K_epochs=K_epochs, eps_clip=eps_clip, movie_id_list=id_list, top_k=top_k,\n",
        "            algo='monte_carlo')\n",
        "\n",
        "    episodes = 4000\n",
        "    rewards = []\n",
        "\n",
        "    for k in range(episodes):\n",
        "        state, info = envi.reset()\n",
        "        done = False\n",
        "\n",
        "        total_reward = 0\n",
        "\n",
        "        while not done:\n",
        "            action, state_value, action_logprob = a.select_action(state)\n",
        "            next_state, reward, done, _, _ = envi.step(action)\n",
        "\n",
        "            # exp = Experience(state, action, reward, next_state, done, state_value, action_logprob)\n",
        "            a.add_experience(Experience(state, action, reward,\n",
        "                            next_state, done, state_value, action_logprob))\n",
        "\n",
        "            total_reward += reward\n",
        "\n",
        "            state = next_state\n",
        "\n",
        "        a.learn()\n",
        "        rewards.append(reward)\n",
        "\n",
        "    return rewards\n",
        "\n",
        "if __name__ == \"__main__\":\n",
        "    rewards = main()\n",
        "    plt.plot(np.arange(len(rewards)), rewards)\n",
        "    plt.title(\"Rewards per Episode, lower-sized network.\")\n",
        "    plt.xlabel(\"Episode\")\n",
        "    plt.ylabel(\"Reward\")\n",
        "\n"
      ],
      "metadata": {
        "id": "pdibDJa1UEiJ"
      },
      "id": "pdibDJa1UEiJ",
      "execution_count": null,
      "outputs": []
    },
    {
      "cell_type": "markdown",
      "source": [
        "The project aims to train an intelligent agent to recommend movies to a simulated user. It frames the movie recommendation task as a MDP using a custom environment based on a static dataset, Netflix Behaviour in the UK. However, the environement is very limited, and does not really replicate the behaviour of a real user.\n",
        "\n",
        "I first designed a custom environment that simulates a user's movie watching session based on a dataset. It provides a reward based on factors such as watch time or genre diversity of the watched sequences. At each time step, the agent (user) selects a movie. The environment will then return a sequence of recently watched movies (in order), and provide a reward.\n",
        "\n",
        "The agent is composed of two main modules. The first one is the StateRep, it is responsible to transform the variable-length sequence of movie ID's returned by env into a fixed-size feature vector which could be used by a neural network. Each movie ID is first represented by an embedding layer. Since the state is a sequence, the latest StateRep module provided here uses a LSTM to analyze the data (embeddings) and capture dependencies over time. Then, a Linear network outputs the fixed-size numerical vector representation.\n",
        "\n",
        "Then, we have the ActorCritic module. This module was initially created to perform well on the Cartpole environment, providing a good framework to begin with. It has two heads, Actor which outputs a stochastic policy over the set of movies (actions), and Critic that estimates the value of the current state.\n",
        "\n",
        "These two modules are then combined inside the PPO agent, which implements the proximal policy optimization algorithm from OpenAI. It first uses the StateRep to analyze the state and output a feature vector. The ActorCritic module is then used to select the action and evaluate the state provided by StateRep. PPO also collects the experiences in the Buffer, and updates the StateRep and ActorCritic by optimizing a clipped surrogate objective over multiple k_epochs.\n",
        "\n",
        "I initially got poor performances out of the PPO agent. I tested the agent with higher number of parameters, but the higher complexity did not help the learning. The shapes of the Tensors were also checked at every step, ensuring that the proper computation was performed. Hence, I modified my initial StateRep module, now deprecated, and implemented an LSTM layer instead. The new modules, with proper tensor shapes have fixed my DRL performance. I did implement some regularization techniques such as some dropout layers inside the ActorCritic module, but I really don't think overfitting is an issue here.\n",
        "\n",
        "There are still two main issues. As pointed out by the teacher, I underestimated how hard it would be to estimate properly the reward for a movie recommendation system. I tried building out a live system from a static dataset, and providing an environment for the agent to learn, but it's still very barebone and far from reality. I've put a small probability at each movie watched that the session ends, but in reality the user would stop if the recommendations are not good. The reward is also very subjective, and could be interpreted much differently from what I have done. The state from the environment should be modified as well to include some user info, but I assumed that the agent would just be fined-tune for each user. By training a separate agent for each individual user, the DRL would effectively learn the preferences and characteristics, without the need of a modified state. There is also the problem of the action space. If a new movie is added on the platform, there is no direct way to add it to the DRL's action space. We would need either transfer learning, or meta-learning to accomodate the issue, but I think this is out of the scope for this project.\n"
      ],
      "metadata": {
        "id": "ocghGSosNMIo"
      },
      "id": "ocghGSosNMIo"
    },
    {
      "cell_type": "markdown",
      "source": [],
      "metadata": {
        "id": "WcyR6z8zMM0H"
      },
      "id": "WcyR6z8zMM0H"
    },
    {
      "cell_type": "code",
      "source": [],
      "metadata": {
        "id": "LOZepNvXMMmF"
      },
      "id": "LOZepNvXMMmF",
      "execution_count": null,
      "outputs": []
    },
    {
      "cell_type": "markdown",
      "source": [],
      "metadata": {
        "id": "3CKcUoo9ML93"
      },
      "id": "3CKcUoo9ML93"
    }
  ],
  "metadata": {
    "kernelspec": {
      "display_name": "Python 3 (ipykernel)",
      "language": "python",
      "name": "python3"
    },
    "language_info": {
      "codemirror_mode": {
        "name": "ipython",
        "version": 3
      },
      "file_extension": ".py",
      "mimetype": "text/x-python",
      "name": "python",
      "nbconvert_exporter": "python",
      "pygments_lexer": "ipython3",
      "version": "3.13.2"
    },
    "colab": {
      "provenance": []
    }
  },
  "nbformat": 4,
  "nbformat_minor": 5
}