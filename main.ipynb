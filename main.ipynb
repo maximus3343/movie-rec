{
 "cells": [
  {
   "cell_type": "code",
   "execution_count": 1,
   "id": "d0cfe9f1-38b6-4f7b-96ea-c6d5de487f50",
   "metadata": {},
   "outputs": [],
   "source": [
    "import pandas as pd\n",
    "\n",
    "from MovieEnv import MovieEnv\n",
    "from PPO import PPO\n",
    "from Buffer import Experience "
   ]
  },
  {
   "cell_type": "code",
   "execution_count": null,
   "id": "63e5a94b-bb00-43d6-9d78-5cc52955f71c",
   "metadata": {},
   "outputs": [],
   "source": [
    "def main():\n",
    "    df = pd.read_csv(\n",
    "    '/home/user/Documents/Python_Workspace/Movie_Project/data//netflix_uk.csv')\n",
    "    N = 4  # Number of last movies watched kept as state.\n",
    "    envi = MovieEnv(df, N=N, alpha=1, beta=0)\n",
    "\n",
    "    lr = 1e-4  # Same learning rate for all modules.\n",
    "    gamma = 0.95  # Discount factor.\n",
    "    in_features = 128\n",
    "    hidden_size = 256\n",
    "    embedding_dim = 64\n",
    "    id_list = df['movie_id'].unique()  # List of movies.\n",
    "    K_epochs = 5\n",
    "    eps_clip = 0.2\n",
    "    top_k = 0\n",
    "\n",
    "    a = PPO(in_features=in_features, out_features=envi.action_space.n, hidden_size=hidden_size, embedding_dim=embedding_dim, lr_actor=lr,\n",
    "            lr_critic=lr, lr_sr=lr, gamma=gamma, N=N, K_epochs=K_epochs, eps_clip=eps_clip, movie_id_list=id_list, top_k=top_k,\n",
    "            algo='monte_carlo')\n",
    "\n",
    "    episodes = 1000\n",
    "    rewards = []\n",
    "\n",
    "    for k in range(episodes):\n",
    "        state, info = envi.reset()\n",
    "        done = False\n",
    "\n",
    "        total_reward = 0\n",
    "        steps_done = 0\n",
    "\n",
    "        while not done:\n",
    "            action, state_value, action_logprob = a.select_action(state)\n",
    "            next_state, reward, done, _, _ = envi.step(action)\n",
    "\n",
    "            # exp = Experience(state, action, reward, next_state, done, state_value, action_logprob)\n",
    "            a.add_experience(Experience(state, action, reward,\n",
    "                            next_state, done, state_value, action_logprob))\n",
    "\n",
    "            steps_done += 1\n",
    "            total_reward += reward\n",
    "\n",
    "            state = next_state\n",
    "\n",
    "            if (steps_done > 5000):\n",
    "                break\n",
    "\n",
    "        print(reward)\n",
    "        a.learn()\n",
    "        rewards.append(reward)\n",
    "\n",
    "if __name__ == \"__main__\":\n",
    "    main()\n",
    "\n"
   ]
  }
 ],
 "metadata": {
  "kernelspec": {
   "display_name": "Python 3 (ipykernel)",
   "language": "python",
   "name": "python3"
  },
  "language_info": {
   "codemirror_mode": {
    "name": "ipython",
    "version": 3
   },
   "file_extension": ".py",
   "mimetype": "text/x-python",
   "name": "python",
   "nbconvert_exporter": "python",
   "pygments_lexer": "ipython3",
   "version": "3.13.2"
  }
 },
 "nbformat": 4,
 "nbformat_minor": 5
}
