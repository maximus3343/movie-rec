{
  "cells": [
    {
      "cell_type": "code",
      "source": [
        "import sys\n",
        "import os\n",
        "import kagglehub\n",
        "import matplotlib.pyplot as plt\n",
        "import numpy as np"
      ],
      "metadata": {
        "id": "qcZUCYIw-tWe"
      },
      "id": "qcZUCYIw-tWe",
      "execution_count": 11,
      "outputs": []
    },
    {
      "cell_type": "code",
      "source": [
        "!git clone https://github.com/maximus3343/movie-rec"
      ],
      "metadata": {
        "id": "5cmq3C8v96sX",
        "outputId": "dd2823ed-b374-4957-f2f5-5bec825fd110",
        "colab": {
          "base_uri": "https://localhost:8080/"
        }
      },
      "id": "5cmq3C8v96sX",
      "execution_count": 2,
      "outputs": [
        {
          "output_type": "stream",
          "name": "stdout",
          "text": [
            "Cloning into 'movie-rec'...\n",
            "remote: Enumerating objects: 19, done.\u001b[K\n",
            "remote: Counting objects: 100% (19/19), done.\u001b[K\n",
            "remote: Compressing objects: 100% (17/17), done.\u001b[K\n",
            "remote: Total 19 (delta 5), reused 0 (delta 0), pack-reused 0 (from 0)\u001b[K\n",
            "Receiving objects: 100% (19/19), 38.96 KiB | 3.25 MiB/s, done.\n",
            "Resolving deltas: 100% (5/5), done.\n"
          ]
        }
      ]
    },
    {
      "cell_type": "code",
      "source": [
        "cloned_repo_path = '/content/movie-rec'\n",
        "\n",
        "if cloned_repo_path not in sys.path:\n",
        "    sys.path.append(cloned_repo_path)\n",
        "print(f\"Added {cloned_repo_path} to sys.path\")"
      ],
      "metadata": {
        "id": "PUL5ipWY-cNK",
        "outputId": "fc7c24d3-9440-4636-d058-c6af169596a2",
        "colab": {
          "base_uri": "https://localhost:8080/"
        }
      },
      "id": "PUL5ipWY-cNK",
      "execution_count": 3,
      "outputs": [
        {
          "output_type": "stream",
          "name": "stdout",
          "text": [
            "Added /content/movie-rec to sys.path\n"
          ]
        }
      ]
    },
    {
      "cell_type": "code",
      "execution_count": 4,
      "id": "d0cfe9f1-38b6-4f7b-96ea-c6d5de487f50",
      "metadata": {
        "id": "d0cfe9f1-38b6-4f7b-96ea-c6d5de487f50"
      },
      "outputs": [],
      "source": [
        "import pandas as pd\n",
        "\n",
        "from MovieEnv import MovieEnv\n",
        "from PPO import PPO\n",
        "from Buffer import Experience"
      ]
    },
    {
      "cell_type": "code",
      "source": [
        "path = kagglehub.dataset_download(\"vodclickstream/netflix-audience-behaviour-uk-movies\")\n",
        "dataset_name = os.listdir(path)[0]\n",
        "path = os.path.join(path, dataset_name)"
      ],
      "metadata": {
        "id": "Vxqwmxqh_D5O",
        "outputId": "c2c2245c-77d8-4e21-9ec9-ddaadc7760cb",
        "colab": {
          "base_uri": "https://localhost:8080/"
        }
      },
      "id": "Vxqwmxqh_D5O",
      "execution_count": 5,
      "outputs": [
        {
          "output_type": "stream",
          "name": "stdout",
          "text": [
            "Downloading from https://www.kaggle.com/api/v1/datasets/download/vodclickstream/netflix-audience-behaviour-uk-movies?dataset_version_number=4...\n"
          ]
        },
        {
          "output_type": "stream",
          "name": "stderr",
          "text": [
            "100%|██████████| 18.1M/18.1M [00:00<00:00, 140MB/s]"
          ]
        },
        {
          "output_type": "stream",
          "name": "stdout",
          "text": [
            "Extracting files...\n"
          ]
        },
        {
          "output_type": "stream",
          "name": "stderr",
          "text": [
            "\n"
          ]
        }
      ]
    },
    {
      "cell_type": "code",
      "execution_count": null,
      "id": "63e5a94b-bb00-43d6-9d78-5cc52955f71c",
      "metadata": {
        "id": "63e5a94b-bb00-43d6-9d78-5cc52955f71c"
      },
      "outputs": [],
      "source": [
        "def main():\n",
        "    df = pd.read_csv(path)\n",
        "    N = 4  # Number of last movies watched kept as state.\n",
        "    envi = MovieEnv(df, N=N, alpha=1, beta=0)\n",
        "\n",
        "    lr = 1e-4  # Same learning rate for all modules.\n",
        "    gamma = 0.95  # Discount factor.\n",
        "    in_features = 128\n",
        "    hidden_size = 256\n",
        "    embedding_dim = 64\n",
        "    id_list = df['movie_id'].unique()  # List of movies.\n",
        "    K_epochs = 5\n",
        "    eps_clip = 0.2\n",
        "    top_k = 0\n",
        "\n",
        "    a = PPO(in_features=in_features, out_features=envi.action_space.n, hidden_size=hidden_size, embedding_dim=embedding_dim, lr_actor=lr,\n",
        "            lr_critic=lr, lr_sr=lr, gamma=gamma, N=N, K_epochs=K_epochs, eps_clip=eps_clip, movie_id_list=id_list, top_k=top_k,\n",
        "            algo='monte_carlo')\n",
        "\n",
        "    episodes = 500\n",
        "    rewards = []\n",
        "\n",
        "    for k in range(episodes):\n",
        "        state, info = envi.reset()\n",
        "        done = False\n",
        "\n",
        "        total_reward = 0\n",
        "\n",
        "        while not done:\n",
        "            action, state_value, action_logprob = a.select_action(state)\n",
        "            next_state, reward, done, _, _ = envi.step(action)\n",
        "\n",
        "            # exp = Experience(state, action, reward, next_state, done, state_value, action_logprob)\n",
        "            a.add_experience(Experience(state, action, reward,\n",
        "                            next_state, done, state_value, action_logprob))\n",
        "\n",
        "            total_reward += reward\n",
        "\n",
        "            state = next_state\n",
        "\n",
        "        a.learn()\n",
        "        rewards.append(reward)\n",
        "\n",
        "    return rewards\n",
        "\n",
        "if __name__ == \"__main__\":\n",
        "    rewards = main()\n",
        "    plt.plot(rewards,np.arange(len(rewards)))\n",
        "    plt.title(\"Rewards per Episode\")\n",
        "    plt.xlabel(\"Episode\")\n",
        "    plt.ylabel(\"Reward\")\n",
        "\n"
      ]
    },
    {
      "cell_type": "markdown",
      "source": [
        "The project aims to train an intelligent agent to recommend movies to a simulated user. It frames the movie recommendation task as a MDP using a custom environment based on a static dataset, Netflix Behaviour in the UK."
      ],
      "metadata": {
        "id": "ocghGSosNMIo"
      },
      "id": "ocghGSosNMIo"
    },
    {
      "cell_type": "markdown",
      "source": [],
      "metadata": {
        "id": "WcyR6z8zMM0H"
      },
      "id": "WcyR6z8zMM0H"
    },
    {
      "cell_type": "code",
      "source": [],
      "metadata": {
        "id": "LOZepNvXMMmF"
      },
      "id": "LOZepNvXMMmF",
      "execution_count": null,
      "outputs": []
    },
    {
      "cell_type": "markdown",
      "source": [],
      "metadata": {
        "id": "3CKcUoo9ML93"
      },
      "id": "3CKcUoo9ML93"
    }
  ],
  "metadata": {
    "kernelspec": {
      "display_name": "Python 3 (ipykernel)",
      "language": "python",
      "name": "python3"
    },
    "language_info": {
      "codemirror_mode": {
        "name": "ipython",
        "version": 3
      },
      "file_extension": ".py",
      "mimetype": "text/x-python",
      "name": "python",
      "nbconvert_exporter": "python",
      "pygments_lexer": "ipython3",
      "version": "3.13.2"
    },
    "colab": {
      "provenance": []
    }
  },
  "nbformat": 4,
  "nbformat_minor": 5
}